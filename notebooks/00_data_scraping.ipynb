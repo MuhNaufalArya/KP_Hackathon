{
 "cells": [
  {
   "cell_type": "code",
   "execution_count": null,
   "id": "94dea914-d1ba-425d-9f89-0ae6fbfd1d18",
   "metadata": {},
   "outputs": [],
   "source": [
    "import pandas as pd\n"
   ]
  },
  {
   "cell_type": "code",
   "execution_count": null,
   "id": "3f3067f2-e30f-4e8e-98e7-1cab76d48445",
   "metadata": {},
   "outputs": [],
   "source": [
    "df = pd.read_csv(\"../data/taxa_list.tsv\", sep=\"\\t\")"
   ]
  },
  {
   "cell_type": "code",
   "execution_count": null,
   "id": "13fcc7e9-6e6b-48ac-bdd2-885953cdc1b6",
   "metadata": {},
   "outputs": [],
   "source": [
    "df.head()"
   ]
  },
  {
   "cell_type": "code",
   "execution_count": null,
   "id": "b5bfc8c3-f3ba-4147-83c8-fea09ca9243a",
   "metadata": {},
   "outputs": [],
   "source": [
    "%%bash\n",
    "#!/usr/bin/env bash\n",
    "\n",
    "set -euo pipefail\n",
    "\n",
    "TAXON_ID=\"2171554\"\n",
    "BASE_DIR=\"../data/raw/${TAXON_ID}\"\n",
    "ZIP_FILE=\"../data/raw/${TAXON_ID}.zip\"\n",
    "\n",
    "# Create directory for the taxon\n",
    "mkdir -p \"$BASE_DIR\"\n",
    "\n",
    "# Download genome zip only if it doesn't already exist\n",
    "if [[ -f \"$ZIP_FILE\" ]]; then\n",
    "    echo \"[INFO] Zip file already exists: $ZIP_FILE — skipping download.\"\n",
    "else\n",
    "    echo \"[INFO] Downloading genome for taxon $TAXON_ID...\"\n",
    "    (\n",
    "        cd ../data/raw\n",
    "        datasets download genome taxon \"$TAXON_ID\" \\\n",
    "            --reference \\\n",
    "            --filename \"${TAXON_ID}.zip\" \\\n",
    "            --include genome,gbff\n",
    "    )\n",
    "fi\n",
    "\n",
    "# Unzip only if the directory is empty\n",
    "if [[ -n \"$(ls -A \"$BASE_DIR\" 2>/dev/null)\" ]]; then\n",
    "    echo \"[INFO] Target directory not empty: $BASE_DIR — skipping unzip.\"\n",
    "else\n",
    "    echo \"[INFO] Extracting to $BASE_DIR...\"\n",
    "    (\n",
    "        unzip -d \"$BASE_DIR\" ../data/raw/\"${TAXON_ID}.zip\"\n",
    "    )\n",
    "fi\n"
   ]
  },
  {
   "cell_type": "code",
   "execution_count": null,
   "id": "7ab5ae2b-bc9c-449f-8e2d-6ef2b7d43d2c",
   "metadata": {},
   "outputs": [],
   "source": []
  }
 ],
 "metadata": {
  "kernelspec": {
   "display_name": "Python 3 (ipykernel)",
   "language": "python",
   "name": "python3"
  },
  "language_info": {
   "codemirror_mode": {
    "name": "ipython",
    "version": 3
   },
   "file_extension": ".py",
   "mimetype": "text/x-python",
   "name": "python",
   "nbconvert_exporter": "python",
   "pygments_lexer": "ipython3",
   "version": "3.12.11"
  }
 },
 "nbformat": 4,
 "nbformat_minor": 5
}
