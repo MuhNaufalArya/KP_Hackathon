{
 "cells": [
  {
   "cell_type": "code",
   "execution_count": null,
   "id": "94dea914-d1ba-425d-9f89-0ae6fbfd1d18",
   "metadata": {},
   "outputs": [],
   "source": [
    "import pandas as pd\n",
    "from pathlib import Path"
   ]
  },
  {
   "cell_type": "code",
   "execution_count": null,
   "id": "3f3067f2-e30f-4e8e-98e7-1cab76d48445",
   "metadata": {},
   "outputs": [],
   "source": [
    "df = pd.read_csv(\"../data/taxa_list.tsv\", sep=\"\\t\")"
   ]
  },
  {
   "cell_type": "code",
   "execution_count": null,
   "id": "13fcc7e9-6e6b-48ac-bdd2-885953cdc1b6",
   "metadata": {},
   "outputs": [],
   "source": [
    "df.head()"
   ]
  },
  {
   "cell_type": "code",
   "execution_count": null,
   "id": "b5bfc8c3-f3ba-4147-83c8-fea09ca9243a",
   "metadata": {},
   "outputs": [],
   "source": [
    "%%bash\n",
    "#!/usr/bin/env bash\n",
    "\n",
    "set -euo pipefail\n",
    "\n",
    "TAXON_ID=\"2171554\"\n",
    "BASE_DIR=\"../data/raw/${TAXON_ID}\"\n",
    "ZIP_FILE=\"../data/raw/${TAXON_ID}.zip\"\n",
    "\n",
    "# Create directory for the taxon\n",
    "mkdir -p \"$BASE_DIR\"\n",
    "\n",
    "# Download genome zip only if it doesn't already exist\n",
    "if [[ -f \"$ZIP_FILE\" ]]; then\n",
    "    echo \"[INFO] Zip file already exists: $ZIP_FILE — skipping download.\"\n",
    "else\n",
    "    echo \"[INFO] Downloading genome for taxon $TAXON_ID...\"\n",
    "    (\n",
    "        cd ../data/raw\n",
    "        datasets download genome taxon \"$TAXON_ID\" \\\n",
    "            --reference \\\n",
    "            --filename \"${TAXON_ID}.zip\" \\\n",
    "            --include genome,gbff\n",
    "    )\n",
    "fi\n",
    "\n",
    "# Unzip only if the directory is empty\n",
    "if [[ -n \"$(ls -A \"$BASE_DIR\" 2>/dev/null)\" ]]; then\n",
    "    echo \"[INFO] Target directory not empty: $BASE_DIR — skipping unzip.\"\n",
    "else\n",
    "    echo \"[INFO] Extracting to $BASE_DIR...\"\n",
    "    (\n",
    "        unzip -d \"$BASE_DIR\" ../data/raw/\"${TAXON_ID}.zip\"\n",
    "    )\n",
    "fi\n"
   ]
  },
  {
   "cell_type": "code",
   "execution_count": null,
   "id": "7ab5ae2b-bc9c-449f-8e2d-6ef2b7d43d2c",
   "metadata": {},
   "outputs": [],
   "source": [
    "from Bio import SeqIO\n"
   ]
  },
  {
   "cell_type": "code",
   "execution_count": null,
   "id": "8272f7b0-d31d-4689-b7ff-6fc8e58d4e2d",
   "metadata": {},
   "outputs": [],
   "source": [
    "feature_dict = {}\n",
    "\n",
    "with open(\"../data/raw/2171554/ncbi_dataset/data/GCF_003073175.1/genomic.gbff\") as handle:\n",
    "    for rec in SeqIO.parse(handle, \"genbank\"):\n",
    "        accession = rec.id\n",
    "        for f in rec.features:\n",
    "            if f.type not in {\"CDS\"}:\n",
    "                continue\n",
    "            else:\n",
    "                q = f.qualifiers\n",
    "                feature_cds = {}\n",
    "                for criteria, value in q.items():\n",
    "                    if type(value) == list:\n",
    "                        feature_cds[criteria] = value[0]\n",
    "                try:\n",
    "                    feature_dict[q[\"locus_tag\"][0]] = feature_cds\n",
    "                except TypeError:\n",
    "                    print(q)"
   ]
  },
  {
   "cell_type": "code",
   "execution_count": null,
   "id": "170cde96-1ff6-460b-85b5-7e194f4c9fc3",
   "metadata": {},
   "outputs": [],
   "source": [
    "outdir = Path(\"../data/processed/\")\n",
    "outdir.mkdir(exist_ok=True, parents=True)\n",
    "pd.DataFrame.from_dict(feature_dict).T.to_csv(outdir / \"2171554.tsv\", sep=\"\\t\")"
   ]
  },
  {
   "cell_type": "code",
   "execution_count": null,
   "id": "f1c7314b-ba1a-4995-a4f0-c498ee8d76e8",
   "metadata": {},
   "outputs": [],
   "source": [
    "f.qualifiers['locus_tag']\n",
    "f.qualifiers['product']\n",
    "f.qualifiers['translation']\n",
    "\n"
   ]
  },
  {
   "cell_type": "code",
   "execution_count": null,
   "id": "ea700577-47a4-48ff-b13d-3da6f244b4b7",
   "metadata": {},
   "outputs": [],
   "source": [
    "f.qualifiers"
   ]
  },
  {
   "cell_type": "code",
   "execution_count": null,
   "id": "55bfe555-68e4-4f8d-b7f5-a817ffc4c97c",
   "metadata": {},
   "outputs": [],
   "source": []
  }
 ],
 "metadata": {
  "kernelspec": {
   "display_name": "Python 3 (ipykernel)",
   "language": "python",
   "name": "python3"
  },
  "language_info": {
   "codemirror_mode": {
    "name": "ipython",
    "version": 3
   },
   "file_extension": ".py",
   "mimetype": "text/x-python",
   "name": "python",
   "nbconvert_exporter": "python",
   "pygments_lexer": "ipython3",
   "version": "3.12.11"
  }
 },
 "nbformat": 4,
 "nbformat_minor": 5
}
